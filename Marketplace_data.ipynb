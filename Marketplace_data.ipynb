{
 "cells": [
  {
   "cell_type": "markdown",
   "id": "0188d788-804f-46cc-bce7-669c79fe5087",
   "metadata": {},
   "source": [
    "## Import Required Libraries"
   ]
  },
  {
   "cell_type": "code",
   "execution_count": 11,
   "id": "2bf4f22a-976a-4153-8151-a91eceb7d74b",
   "metadata": {},
   "outputs": [],
   "source": [
    "import pandas as pd\n",
    "from time import sleep\n",
    "from selenium import webdriver\n",
    "from selenium.webdriver.common.by import By\n",
    "from selenium.webdriver.common.keys import Keys\n",
    "from selenium.webdriver.chrome.options import Options\n",
    "from selenium.webdriver.chrome.service import Service\n",
    "from webdriver_manager.chrome import ChromeDriverManager"
   ]
  },
  {
   "cell_type": "markdown",
   "id": "78210999-04c7-4deb-b4f5-fdb766a6c5ee",
   "metadata": {},
   "source": [
    "## Setup the chrome browser"
   ]
  },
  {
   "cell_type": "code",
   "execution_count": 12,
   "id": "07101c3b-49ab-426e-8c4d-a43ac840748d",
   "metadata": {},
   "outputs": [],
   "source": [
    "chrome_options = Options()\n",
    "chrome_options.add_experimental_option(\"detach\",True)\n",
    "\n",
    "driver = webdriver.Chrome(service=Service(ChromeDriverManager().install()),options=chrome_options)\n",
    "driver.get('https://www.facebook.com/marketplace/delhi/electronics')\n",
    "\n",
    "sleep(3)\n",
    "driver.maximize_window()"
   ]
  },
  {
   "cell_type": "markdown",
   "id": "ba9bc968-636c-47ab-8f83-4aabc76fce86",
   "metadata": {},
   "source": [
    "## Login into the webpage of Facebook"
   ]
  },
  {
   "cell_type": "code",
   "execution_count": 13,
   "id": "aacb253f-85c4-4918-a48c-687c4a9641b2",
   "metadata": {},
   "outputs": [],
   "source": [
    "user_name = driver.find_element(By.XPATH,\"//input[@id=':r1g:']\")\n",
    "# Put here username for login\n",
    "user_name.send_keys(\"USERNAME\")\n",
    "\n",
    "user_password = driver.find_element(By.XPATH,\"//input[@id=':r1j:']\")\n",
    "# Put here password for login\n",
    "user_password.send_keys(\"PASSWORD\")\n",
    "\n",
    "submit = driver.find_element(By.XPATH,\"//div[@class='x1n2onr6 x1ja2u2z x78zum5 x2lah0s xl56j7k x6s0dn4 xozqiw3 x1q0g3np xi112ho x17zwfj4 x585lrc x1403ito x972fbf xcfux6l x1qhh985 xm0m39n x9f619 xn6708d x1ye3gou xtvsq51 x1fq8qgq']\")\n",
    "submit.click()\n",
    "\n",
    "sleep(3)"
   ]
  },
  {
   "cell_type": "code",
   "execution_count": 21,
   "id": "b89f3543-4468-4dcb-98cc-04ecf3a992af",
   "metadata": {},
   "outputs": [],
   "source": [
    "scrolls = driver.find_elements(By.XPATH,\"//div[@class='x3ct3a4']\")\n",
    "for sc in scrolls:\n",
    "    driver.execute_script(\"arguments[0].scrollIntoView();\",sc)\n",
    "    sleep(1)"
   ]
  },
  {
   "cell_type": "markdown",
   "id": "1ced01a6-653a-452f-a31b-68c083a5c316",
   "metadata": {},
   "source": [
    "## Scraping the data in the columns "
   ]
  },
  {
   "cell_type": "code",
   "execution_count": 22,
   "id": "e9ec58d2-9a72-44ec-8eb0-7b1f2957d580",
   "metadata": {},
   "outputs": [],
   "source": [
    "Product_name = []\n",
    "Product_price = []\n",
    "Product_details = []\n",
    "Seller_location = []\n",
    "for urls in driver.find_elements(By.XPATH,\"//div[@class='x3ct3a4']/a\"):\n",
    "    urls.click()\n",
    "    try:\n",
    "        product = driver.find_element(By.XPATH,\"//h1[@tabindex='-1']/span\")\n",
    "        Product_name.append(product.text)\n",
    "    except:\n",
    "        Product_name.append(\" _ \")\n",
    "\n",
    "    try:\n",
    "        price = driver.find_element(By.XPATH,\"//div[@class='x1xmf6yo']/div/span\")\n",
    "        Product_price.append(price.text)\n",
    "    except:\n",
    "        Product_price.append(\" _ \")\n",
    "    try:\n",
    "        description = driver.find_element(By.XPATH,\"//div[@class='xz9dl7a x4uap5 xsag5q8 xkhd6sd x126k92a']/div/span\")\n",
    "        Product_details.append(description.text)\n",
    "    except:\n",
    "        Product_details.append(\" _ \")\n",
    "\n",
    "    try:\n",
    "        location = driver.find_element(By.XPATH,\"(//div[@class='x78zum5 xdt5ytf xz62fqu x16ldp7u']/div/span/span)[6]\")\n",
    "        Seller_location.append(location.text)\n",
    "    except:\n",
    "        Seller_location.append(\" _ \")\n",
    "\n",
    "    \n",
    "    driver.back()\n",
    "    sleep(2)"
   ]
  },
  {
   "cell_type": "markdown",
   "id": "a1445876-54b6-49a8-b4bc-8b4b19d370cc",
   "metadata": {},
   "source": [
    "## Create dataframe for storing data in structured data"
   ]
  },
  {
   "cell_type": "code",
   "execution_count": 24,
   "id": "b7ff7bf1-a0c5-42a8-97c7-52bb7c644afa",
   "metadata": {
    "scrolled": true
   },
   "outputs": [],
   "source": [
    "data = pd.DataFrame()\n",
    "data[\"Product Name\"] = Product_name\n",
    "data[\"Product Price\"] = Product_price\n",
    "data[\"Product Condition\"] = Product_details\n",
    "data[\"Seller Location\"] = Seller_location"
   ]
  },
  {
   "cell_type": "markdown",
   "id": "c5aef237-0ef2-4077-96a5-7b0690587722",
   "metadata": {},
   "source": [
    "## Data exporting in the form of CSV"
   ]
  },
  {
   "cell_type": "code",
   "execution_count": 29,
   "id": "59b9435d-6f3c-4fd2-92b2-c6c2596fe037",
   "metadata": {},
   "outputs": [],
   "source": [
    "data.to_csv(\"Facebook Marketplace electronic items.csv\")"
   ]
  },
  {
   "cell_type": "code",
   "execution_count": 30,
   "id": "6defde52-12e9-49d4-bdbb-691ce16fbc09",
   "metadata": {},
   "outputs": [],
   "source": [
    "driver.quit()"
   ]
  },
  {
   "cell_type": "code",
   "execution_count": null,
   "id": "57a71c45-3aa9-44ac-bd0a-83a70294b457",
   "metadata": {},
   "outputs": [],
   "source": []
  }
 ],
 "metadata": {
  "kernelspec": {
   "display_name": "Python 3 (ipykernel)",
   "language": "python",
   "name": "python3"
  },
  "language_info": {
   "codemirror_mode": {
    "name": "ipython",
    "version": 3
   },
   "file_extension": ".py",
   "mimetype": "text/x-python",
   "name": "python",
   "nbconvert_exporter": "python",
   "pygments_lexer": "ipython3",
   "version": "3.12.2"
  }
 },
 "nbformat": 4,
 "nbformat_minor": 5
}
